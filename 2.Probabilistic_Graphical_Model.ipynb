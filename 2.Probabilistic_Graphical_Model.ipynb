{
  "nbformat": 4,
  "nbformat_minor": 0,
  "metadata": {
    "colab": {
      "name": "2.Probabilistic_Graphical_Model.ipynb",
      "provenance": [],
      "authorship_tag": "ABX9TyN4ilOm2Hr+DzH6O2Xz88e1"
    },
    "kernelspec": {
      "name": "python3",
      "display_name": "Python 3"
    },
    "language_info": {
      "name": "python"
    }
  },
  "cells": [
    {
      "cell_type": "markdown",
      "metadata": {
        "id": "trT2oaae7Dx2"
      },
      "source": [
        "Documentation : http://pgmpy.org/models.html\n",
        "\n",
        "Video help is available here https://www.youtube.com/watch?v=gpKzZiUDjxM"
      ]
    },
    {
      "cell_type": "code",
      "metadata": {
        "colab": {
          "base_uri": "https://localhost:8080/"
        },
        "id": "mcOzPjsn9Tdo",
        "outputId": "d79c5051-8549-47f9-b957-b7d72f2bbf32"
      },
      "source": [
        "!pip install pgmpy"
      ],
      "execution_count": null,
      "outputs": [
        {
          "output_type": "stream",
          "text": [
            "Requirement already satisfied: pgmpy in /usr/local/lib/python3.7/dist-packages (0.1.14)\n",
            "Requirement already satisfied: tqdm in /usr/local/lib/python3.7/dist-packages (from pgmpy) (4.41.1)\n",
            "Requirement already satisfied: scikit-learn in /usr/local/lib/python3.7/dist-packages (from pgmpy) (0.22.2.post1)\n",
            "Requirement already satisfied: pandas in /usr/local/lib/python3.7/dist-packages (from pgmpy) (1.1.5)\n",
            "Requirement already satisfied: pyparsing in /usr/local/lib/python3.7/dist-packages (from pgmpy) (2.4.7)\n",
            "Requirement already satisfied: joblib in /usr/local/lib/python3.7/dist-packages (from pgmpy) (1.0.1)\n",
            "Requirement already satisfied: networkx in /usr/local/lib/python3.7/dist-packages (from pgmpy) (2.5)\n",
            "Requirement already satisfied: statsmodels in /usr/local/lib/python3.7/dist-packages (from pgmpy) (0.10.2)\n",
            "Requirement already satisfied: torch in /usr/local/lib/python3.7/dist-packages (from pgmpy) (1.8.1+cu101)\n",
            "Requirement already satisfied: numpy in /usr/local/lib/python3.7/dist-packages (from pgmpy) (1.19.5)\n",
            "Requirement already satisfied: scipy in /usr/local/lib/python3.7/dist-packages (from pgmpy) (1.4.1)\n",
            "Requirement already satisfied: pytz>=2017.2 in /usr/local/lib/python3.7/dist-packages (from pandas->pgmpy) (2018.9)\n",
            "Requirement already satisfied: python-dateutil>=2.7.3 in /usr/local/lib/python3.7/dist-packages (from pandas->pgmpy) (2.8.1)\n",
            "Requirement already satisfied: decorator>=4.3.0 in /usr/local/lib/python3.7/dist-packages (from networkx->pgmpy) (4.4.2)\n",
            "Requirement already satisfied: patsy>=0.4.0 in /usr/local/lib/python3.7/dist-packages (from statsmodels->pgmpy) (0.5.1)\n",
            "Requirement already satisfied: typing-extensions in /usr/local/lib/python3.7/dist-packages (from torch->pgmpy) (3.7.4.3)\n",
            "Requirement already satisfied: six>=1.5 in /usr/local/lib/python3.7/dist-packages (from python-dateutil>=2.7.3->pandas->pgmpy) (1.15.0)\n"
          ],
          "name": "stdout"
        }
      ]
    },
    {
      "cell_type": "code",
      "metadata": {
        "id": "DCN_8gtMyOkC"
      },
      "source": [
        "from pgmpy.factors.discrete import TabularCPD\n",
        "from pgmpy.models import BayesianModel"
      ],
      "execution_count": null,
      "outputs": []
    },
    {
      "cell_type": "code",
      "metadata": {
        "id": "z2JaQMji9Pym"
      },
      "source": [
        "# First, set the structure\n",
        "wc_model = BayesianModel([('Genetics', 'Performance'),\n",
        "                          ('Practice', 'Performance'),\n",
        "                          ('Performance', 'Offer')])"
      ],
      "execution_count": null,
      "outputs": []
    },
    {
      "cell_type": "code",
      "metadata": {
        "id": "FRLHviMl98Um"
      },
      "source": [
        "# Then set up the relationships (the CPDs)\n",
        "\n",
        "genetics_cpd = TabularCPD(variable = 'Genetics',\n",
        "                          variable_card = 2,\n",
        "                          values = [[.2],[.8]])"
      ],
      "execution_count": null,
      "outputs": []
    },
    {
      "cell_type": "code",
      "metadata": {
        "id": "nGeV9kac-ovM"
      },
      "source": [
        "practice_cpd = TabularCPD(variable = 'Practice',\n",
        "                          variable_card = 2,\n",
        "                          values = [[.7],[.3]])"
      ],
      "execution_count": null,
      "outputs": []
    },
    {
      "cell_type": "code",
      "metadata": {
        "id": "K-ttXc_V_IQ-"
      },
      "source": [
        "offer_cpd = TabularCPD(variable = 'Offer',\n",
        "                       variable_card = 2,\n",
        "                       values = [[.95,.8,.5],\n",
        "                                 [.05,.2,.5]],\n",
        "                       evidence = ['Performance'],\n",
        "                       evidence_card = [3]\n",
        "                       )"
      ],
      "execution_count": null,
      "outputs": []
    },
    {
      "cell_type": "code",
      "metadata": {
        "id": "Th011PTPCp8N"
      },
      "source": [
        "wc_trails_cpd = TabularCPD(variable = 'Performance',\n",
        "                       variable_card = 3,\n",
        "                       values = [[.5, .8, .8, .9],\n",
        "                                 [.3, .15, .1, .08],\n",
        "                                 [.2, .05, .1, .02]],\n",
        "                       evidence = ['Genetics', 'Practice'],\n",
        "                       evidence_card = [2,2]\n",
        "                       )"
      ],
      "execution_count": null,
      "outputs": []
    },
    {
      "cell_type": "code",
      "metadata": {
        "id": "nAr71W3EEqiy"
      },
      "source": [
        "# Add the relationships to your models\n",
        "wc_model.add_cpds(genetics_cpd, practice_cpd, offer_cpd, wc_trails_cpd)"
      ],
      "execution_count": null,
      "outputs": []
    },
    {
      "cell_type": "code",
      "metadata": {
        "colab": {
          "base_uri": "https://localhost:8080/"
        },
        "id": "itT0vpCkFAj8",
        "outputId": "7515a841-2478-4f76-e3b2-f41374ec6af1"
      },
      "source": [
        "#Examine the structure of your graph\n",
        "wc_model.get_cpds()"
      ],
      "execution_count": null,
      "outputs": [
        {
          "output_type": "execute_result",
          "data": {
            "text/plain": [
              "[<TabularCPD representing P(Genetics:2) at 0x7f7ca64a9d90>,\n",
              " <TabularCPD representing P(Practice:2) at 0x7f7ca64b75d0>,\n",
              " <TabularCPD representing P(Offer:2 | Performance:3) at 0x7f7ca64c31d0>,\n",
              " <TabularCPD representing P(Performance:3 | Genetics:2, Practice:2) at 0x7f7ca64c3d50>]"
            ]
          },
          "metadata": {
            "tags": []
          },
          "execution_count": 9
        }
      ]
    },
    {
      "cell_type": "code",
      "metadata": {
        "colab": {
          "base_uri": "https://localhost:8080/"
        },
        "id": "40gZiGmoFKLG",
        "outputId": "47a668f5-585a-4d78-e0b1-74828081d6e7"
      },
      "source": [
        "#Find the active trail nodes\n",
        "wc_model.active_trail_nodes('Genetics')"
      ],
      "execution_count": null,
      "outputs": [
        {
          "output_type": "execute_result",
          "data": {
            "text/plain": [
              "{'Genetics': {'Genetics', 'Offer', 'Performance'}}"
            ]
          },
          "metadata": {
            "tags": []
          },
          "execution_count": 10
        }
      ]
    },
    {
      "cell_type": "code",
      "metadata": {
        "colab": {
          "base_uri": "https://localhost:8080/"
        },
        "id": "32gTu8L7F--Q",
        "outputId": "c9fd3a92-aae7-4990-a679-5beb2922800f"
      },
      "source": [
        "wc_model.active_trail_nodes('Performance')"
      ],
      "execution_count": null,
      "outputs": [
        {
          "output_type": "execute_result",
          "data": {
            "text/plain": [
              "{'Performance': {'Genetics', 'Offer', 'Performance', 'Practice'}}"
            ]
          },
          "metadata": {
            "tags": []
          },
          "execution_count": 11
        }
      ]
    },
    {
      "cell_type": "code",
      "metadata": {
        "colab": {
          "base_uri": "https://localhost:8080/"
        },
        "id": "AjK-f2ryGTIN",
        "outputId": "8fb6d422-78cf-4bf1-b29d-5f895f3c4c89"
      },
      "source": [
        "wc_model.active_trail_nodes('Practice')"
      ],
      "execution_count": null,
      "outputs": [
        {
          "output_type": "execute_result",
          "data": {
            "text/plain": [
              "{'Practice': {'Offer', 'Performance', 'Practice'}}"
            ]
          },
          "metadata": {
            "tags": []
          },
          "execution_count": 12
        }
      ]
    },
    {
      "cell_type": "code",
      "metadata": {
        "colab": {
          "base_uri": "https://localhost:8080/"
        },
        "id": "AZTndaOEGYYi",
        "outputId": "3e5bc9fc-51b7-4e9f-c866-47741a3c84b1"
      },
      "source": [
        "# Find Local independencies\n",
        "wc_model.local_independencies('Genetics')  "
      ],
      "execution_count": null,
      "outputs": [
        {
          "output_type": "execute_result",
          "data": {
            "text/plain": [
              "(Genetics ⟂ Practice)"
            ]
          },
          "metadata": {
            "tags": []
          },
          "execution_count": 13
        }
      ]
    },
    {
      "cell_type": "markdown",
      "metadata": {
        "id": "y-MV4GmCH3Qh"
      },
      "source": [
        "Here we see, only Practice is independent of Genetics."
      ]
    },
    {
      "cell_type": "code",
      "metadata": {
        "colab": {
          "base_uri": "https://localhost:8080/"
        },
        "id": "o-KAz76AGtM7",
        "outputId": "49c0e90f-2a73-4dcd-e91d-3f72f2bff2f5"
      },
      "source": [
        "wc_model.local_independencies('Performance')"
      ],
      "execution_count": null,
      "outputs": [
        {
          "output_type": "execute_result",
          "data": {
            "text/plain": [
              ""
            ]
          },
          "metadata": {
            "tags": []
          },
          "execution_count": 14
        }
      ]
    },
    {
      "cell_type": "markdown",
      "metadata": {
        "id": "zBNUCtPHIDF0"
      },
      "source": [
        "Here, nothing is independent of Performance as every variable is dependent on Performance."
      ]
    },
    {
      "cell_type": "code",
      "metadata": {
        "colab": {
          "base_uri": "https://localhost:8080/"
        },
        "id": "uvIHms1xGxEi",
        "outputId": "6fda975d-595a-4257-9cd3-aedcd7737bcd"
      },
      "source": [
        "# Get all independencies\n",
        "wc_model.get_independencies()"
      ],
      "execution_count": null,
      "outputs": [
        {
          "output_type": "execute_result",
          "data": {
            "text/plain": [
              "(Genetics ⟂ Practice)\n",
              "(Genetics ⟂ Offer | Performance)\n",
              "(Genetics ⟂ Offer | Practice, Performance)\n",
              "(Practice ⟂ Genetics)\n",
              "(Practice ⟂ Offer | Performance)\n",
              "(Practice ⟂ Offer | Genetics, Performance)\n",
              "(Offer ⟂ Genetics, Practice | Performance)\n",
              "(Offer ⟂ Practice | Genetics, Performance)\n",
              "(Offer ⟂ Genetics | Practice, Performance)"
            ]
          },
          "metadata": {
            "tags": []
          },
          "execution_count": 15
        }
      ]
    },
    {
      "cell_type": "code",
      "metadata": {
        "id": "ajZp3P2nG__G"
      },
      "source": [
        "# Making inferences\n",
        "# we can get probability distributions that are not explicitly spelled out in our\n",
        "\n",
        "from pgmpy.inference import VariableElimination"
      ],
      "execution_count": null,
      "outputs": []
    },
    {
      "cell_type": "code",
      "metadata": {
        "id": "Ao90wnHIHoah"
      },
      "source": [
        "wc_infer = VariableElimination(wc_model)"
      ],
      "execution_count": null,
      "outputs": []
    },
    {
      "cell_type": "code",
      "metadata": {
        "colab": {
          "base_uri": "https://localhost:8080/"
        },
        "id": "kH_XYYF5IXhK",
        "outputId": "f2e05260-663d-4668-c881-b42cd02a8d3a"
      },
      "source": [
        "prob_offer = wc_infer.query(variables = ['Offer'])\n",
        "print(prob_offer)"
      ],
      "execution_count": null,
      "outputs": [
        {
          "output_type": "stream",
          "text": [
            "Finding Elimination Order: : 100%|██████████| 3/3 [00:00<00:00, 674.69it/s]\n",
            "Eliminating: Performance: 100%|██████████| 3/3 [00:00<00:00, 228.84it/s]"
          ],
          "name": "stderr"
        },
        {
          "output_type": "stream",
          "text": [
            "+----------+--------------+\n",
            "| Offer    |   phi(Offer) |\n",
            "+==========+==============+\n",
            "| Offer(0) |       0.8898 |\n",
            "+----------+--------------+\n",
            "| Offer(1) |       0.1102 |\n",
            "+----------+--------------+\n"
          ],
          "name": "stdout"
        },
        {
          "output_type": "stream",
          "text": [
            "\n"
          ],
          "name": "stderr"
        }
      ]
    },
    {
      "cell_type": "code",
      "metadata": {
        "colab": {
          "base_uri": "https://localhost:8080/"
        },
        "id": "pcCvq2qWKJ1y",
        "outputId": "74f6ed5c-10a3-4752-9aae-fa7501fa91ac"
      },
      "source": [
        "# We can also get conditional probability distribution that take into account what we already know\n",
        "\n",
        "prob_offer_good_genes = wc_infer.query(variables=['Offer','Genetics'])\n",
        "# print(prob_offer_good_genes['Offer'])\n",
        "print(prob_offer_good_genes)"
      ],
      "execution_count": null,
      "outputs": [
        {
          "output_type": "stream",
          "text": [
            "Finding Elimination Order: : 100%|██████████| 2/2 [00:00<00:00, 642.71it/s]\n",
            "Eliminating: Performance: 100%|██████████| 2/2 [00:00<00:00, 303.86it/s]"
          ],
          "name": "stderr"
        },
        {
          "output_type": "stream",
          "text": [
            "+----------+-------------+-----------------------+\n",
            "| Offer    | Genetics    |   phi(Offer,Genetics) |\n",
            "+==========+=============+=======================+\n",
            "| Offer(0) | Genetics(0) |                0.1684 |\n",
            "+----------+-------------+-----------------------+\n",
            "| Offer(0) | Genetics(1) |                0.7214 |\n",
            "+----------+-------------+-----------------------+\n",
            "| Offer(1) | Genetics(0) |                0.0316 |\n",
            "+----------+-------------+-----------------------+\n",
            "| Offer(1) | Genetics(1) |                0.0786 |\n",
            "+----------+-------------+-----------------------+\n"
          ],
          "name": "stdout"
        },
        {
          "output_type": "stream",
          "text": [
            "\n"
          ],
          "name": "stderr"
        }
      ]
    },
    {
      "cell_type": "code",
      "metadata": {
        "colab": {
          "base_uri": "https://localhost:8080/"
        },
        "id": "ZujBWZAhK8vv",
        "outputId": "b1e827e9-9ac2-4cb6-e3fd-c12bda5c31ec"
      },
      "source": [
        "prob_offer_bad_genes = wc_infer.query(variables=['Offer'],\n",
        "                                      evidence = {'Genetics':1})\n",
        "print(prob_offer_bad_genes)"
      ],
      "execution_count": null,
      "outputs": [
        {
          "output_type": "stream",
          "text": [
            "Finding Elimination Order: : 100%|██████████| 2/2 [00:00<00:00, 442.74it/s]\n",
            "Eliminating: Performance: 100%|██████████| 2/2 [00:00<00:00, 205.29it/s]"
          ],
          "name": "stderr"
        },
        {
          "output_type": "stream",
          "text": [
            "+----------+--------------+\n",
            "| Offer    |   phi(Offer) |\n",
            "+==========+==============+\n",
            "| Offer(0) |       0.9017 |\n",
            "+----------+--------------+\n",
            "| Offer(1) |       0.0983 |\n",
            "+----------+--------------+\n"
          ],
          "name": "stdout"
        },
        {
          "output_type": "stream",
          "text": [
            "\n"
          ],
          "name": "stderr"
        }
      ]
    },
    {
      "cell_type": "code",
      "metadata": {
        "colab": {
          "base_uri": "https://localhost:8080/"
        },
        "id": "_IIZ3DfhL6r4",
        "outputId": "147325af-1bf5-4426-ecdb-134fe8b1dfc0"
      },
      "source": [
        "prob_offer_good_genes = wc_infer.query(variables=['Offer'],\n",
        "                                      evidence = {'Genetics':0})\n",
        "print(prob_offer_good_genes)"
      ],
      "execution_count": null,
      "outputs": [
        {
          "output_type": "stream",
          "text": [
            "Finding Elimination Order: : 100%|██████████| 2/2 [00:00<00:00, 489.79it/s]\n",
            "Eliminating: Performance: 100%|██████████| 2/2 [00:00<00:00, 356.80it/s]"
          ],
          "name": "stderr"
        },
        {
          "output_type": "stream",
          "text": [
            "+----------+--------------+\n",
            "| Offer    |   phi(Offer) |\n",
            "+==========+==============+\n",
            "| Offer(0) |       0.8420 |\n",
            "+----------+--------------+\n",
            "| Offer(1) |       0.1580 |\n",
            "+----------+--------------+\n"
          ],
          "name": "stdout"
        },
        {
          "output_type": "stream",
          "text": [
            "\n"
          ],
          "name": "stderr"
        }
      ]
    },
    {
      "cell_type": "code",
      "metadata": {
        "colab": {
          "base_uri": "https://localhost:8080/"
        },
        "id": "uHj4xkuRMHd2",
        "outputId": "5862c90c-11a4-4a72-e351-ea6160d6d121"
      },
      "source": [
        "prob_offer_good_did_practice = wc_infer.query(variables=['Offer'],\n",
        "                                      evidence = {'Genetics':0, 'Practice':1})\n",
        "print(prob_offer_good_did_practice)"
      ],
      "execution_count": null,
      "outputs": [
        {
          "output_type": "stream",
          "text": [
            "Finding Elimination Order: : 100%|██████████| 1/1 [00:00<00:00, 203.64it/s]\n",
            "Eliminating: Performance: 100%|██████████| 1/1 [00:00<00:00, 187.02it/s]"
          ],
          "name": "stderr"
        },
        {
          "output_type": "stream",
          "text": [
            "+----------+--------------+\n",
            "| Offer    |   phi(Offer) |\n",
            "+==========+==============+\n",
            "| Offer(0) |       0.9050 |\n",
            "+----------+--------------+\n",
            "| Offer(1) |       0.0950 |\n",
            "+----------+--------------+\n"
          ],
          "name": "stdout"
        },
        {
          "output_type": "stream",
          "text": [
            "\n"
          ],
          "name": "stderr"
        }
      ]
    },
    {
      "cell_type": "code",
      "metadata": {
        "colab": {
          "base_uri": "https://localhost:8080/"
        },
        "id": "7JkPjZ1EMvZJ",
        "outputId": "46105fb1-fbb5-4d03-a0ae-f911462beec6"
      },
      "source": [
        "# You can also go upstream Logically.\n",
        "## For example, evidence about performance at the WC Trails affects the probabilities of Genetics\n",
        "\n",
        "prob_offer_genes_if_amazing_wc_trials = wc_infer.query(variables=['Genetics'],\n",
        "                                      evidence = {'Performance':2})\n",
        "print(prob_offer_genes_if_amazing_wc_trials)"
      ],
      "execution_count": null,
      "outputs": [
        {
          "output_type": "stream",
          "text": [
            "Finding Elimination Order: : 100%|██████████| 2/2 [00:00<00:00, 432.87it/s]\n",
            "Eliminating: Practice: 100%|██████████| 2/2 [00:00<00:00, 398.07it/s]"
          ],
          "name": "stderr"
        },
        {
          "output_type": "stream",
          "text": [
            "+-------------+-----------------+\n",
            "| Genetics    |   phi(Genetics) |\n",
            "+=============+=================+\n",
            "| Genetics(0) |          0.3377 |\n",
            "+-------------+-----------------+\n",
            "| Genetics(1) |          0.6623 |\n",
            "+-------------+-----------------+\n"
          ],
          "name": "stdout"
        },
        {
          "output_type": "stream",
          "text": [
            "\n"
          ],
          "name": "stderr"
        }
      ]
    },
    {
      "cell_type": "code",
      "metadata": {
        "colab": {
          "base_uri": "https://localhost:8080/"
        },
        "id": "qWrkr1z8Nm2D",
        "outputId": "5cd82fa3-e79f-4aee-9e59-7e99d69d2ba3"
      },
      "source": [
        "# Some variables are only informative about other variables given 'third' variables\n",
        "\n",
        "## Practice does not inherently tell us something about Genetics\n",
        "\n",
        "prob_good_genes_if_no_practice = wc_infer.query(variables=['Genetics'],\n",
        "                                      evidence = {'Practice':1})\n",
        "print(prob_good_genes_if_no_practice)"
      ],
      "execution_count": null,
      "outputs": [
        {
          "output_type": "stream",
          "text": [
            "Finding Elimination Order: : 100%|██████████| 2/2 [00:00<00:00, 506.65it/s]\n",
            "Eliminating: Performance: 100%|██████████| 2/2 [00:00<00:00, 405.34it/s]"
          ],
          "name": "stderr"
        },
        {
          "output_type": "stream",
          "text": [
            "+-------------+-----------------+\n",
            "| Genetics    |   phi(Genetics) |\n",
            "+=============+=================+\n",
            "| Genetics(0) |          0.2000 |\n",
            "+-------------+-----------------+\n",
            "| Genetics(1) |          0.8000 |\n",
            "+-------------+-----------------+\n"
          ],
          "name": "stdout"
        },
        {
          "output_type": "stream",
          "text": [
            "\n"
          ],
          "name": "stderr"
        }
      ]
    },
    {
      "cell_type": "code",
      "metadata": {
        "colab": {
          "base_uri": "https://localhost:8080/"
        },
        "id": "JdboWUUOOf7g",
        "outputId": "d9b1f633-8af7-4d09-bef8-7597c5ddf744"
      },
      "source": [
        "# We can also find out the most probable state for a variable\n",
        "\n",
        "wc_infer.map_query(variables=['Genetics'])"
      ],
      "execution_count": null,
      "outputs": [
        {
          "output_type": "stream",
          "text": [
            "Finding Elimination Order: : 100%|██████████| 3/3 [00:00<00:00, 1213.40it/s]\n",
            "Eliminating: Performance: 100%|██████████| 3/3 [00:00<00:00, 333.63it/s]\n"
          ],
          "name": "stderr"
        },
        {
          "output_type": "execute_result",
          "data": {
            "text/plain": [
              "{'Genetics': 1}"
            ]
          },
          "metadata": {
            "tags": []
          },
          "execution_count": 25
        }
      ]
    },
    {
      "cell_type": "code",
      "metadata": {
        "colab": {
          "base_uri": "https://localhost:8080/"
        },
        "id": "PtUv8Kw5O3F9",
        "outputId": "519ae540-f83a-4b8a-bb7e-4ca3ecd7b0d7"
      },
      "source": [
        "wc_infer.map_query(variables=['Offer'])"
      ],
      "execution_count": null,
      "outputs": [
        {
          "output_type": "stream",
          "text": [
            "Finding Elimination Order: : 100%|██████████| 3/3 [00:00<00:00, 1288.84it/s]\n",
            "Eliminating: Performance: 100%|██████████| 3/3 [00:00<00:00, 337.25it/s]\n"
          ],
          "name": "stderr"
        },
        {
          "output_type": "execute_result",
          "data": {
            "text/plain": [
              "{'Offer': 0}"
            ]
          },
          "metadata": {
            "tags": []
          },
          "execution_count": 26
        }
      ]
    },
    {
      "cell_type": "code",
      "metadata": {
        "colab": {
          "base_uri": "https://localhost:8080/"
        },
        "id": "KO7DRAlKO7r1",
        "outputId": "db280997-9457-49e7-c1c9-dd249f3cdbf8"
      },
      "source": [
        "wc_infer.map_query(variables=['Performance'])"
      ],
      "execution_count": null,
      "outputs": [
        {
          "output_type": "stream",
          "text": [
            "Finding Elimination Order: : 100%|██████████| 3/3 [00:00<00:00, 922.37it/s]\n",
            "Eliminating: Practice: 100%|██████████| 3/3 [00:00<00:00, 335.47it/s]\n"
          ],
          "name": "stderr"
        },
        {
          "output_type": "execute_result",
          "data": {
            "text/plain": [
              "{'Performance': 0}"
            ]
          },
          "metadata": {
            "tags": []
          },
          "execution_count": 27
        }
      ]
    },
    {
      "cell_type": "markdown",
      "metadata": {
        "id": "FUM1lyD4PARG"
      },
      "source": [
        "------------------------------"
      ]
    }
  ]
}