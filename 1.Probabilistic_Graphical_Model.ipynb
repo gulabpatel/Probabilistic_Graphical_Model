{
  "nbformat": 4,
  "nbformat_minor": 0,
  "metadata": {
    "colab": {
      "name": "1: Probabilistic_Graphical_Model.ipynb",
      "provenance": [],
      "collapsed_sections": [],
      "authorship_tag": "ABX9TyNP+IFYxNP/IBZiWtoYie6B"
    },
    "kernelspec": {
      "name": "python3",
      "display_name": "Python 3"
    },
    "language_info": {
      "name": "python"
    }
  },
  "cells": [
    {
      "cell_type": "markdown",
      "metadata": {
        "id": "laVDHEM6anDu"
      },
      "source": [
        "Documentation : http://pgmpy.org/models.html"
      ]
    },
    {
      "cell_type": "markdown",
      "metadata": {
        "id": "Dq7K6cCCauMS"
      },
      "source": [
        "#Bayesian Model"
      ]
    },
    {
      "cell_type": "code",
      "metadata": {
        "id": "YVdRuNXYa2az",
        "colab": {
          "base_uri": "https://localhost:8080/"
        },
        "outputId": "ec11ef24-b9c9-433c-a68d-d3247879c161"
      },
      "source": [
        "!pip install pgmpy"
      ],
      "execution_count": 1,
      "outputs": [
        {
          "output_type": "stream",
          "text": [
            "Collecting pgmpy\n",
            "\u001b[?25l  Downloading https://files.pythonhosted.org/packages/a3/0e/d9fadbfaa35e010c04d43acd3ae9fbefec98897dd7d61a6b7eb5a8b34072/pgmpy-0.1.14-py3-none-any.whl (331kB)\n",
            "\r\u001b[K     |█                               | 10kB 14.9MB/s eta 0:00:01\r\u001b[K     |██                              | 20kB 19.7MB/s eta 0:00:01\r\u001b[K     |███                             | 30kB 23.2MB/s eta 0:00:01\r\u001b[K     |████                            | 40kB 25.7MB/s eta 0:00:01\r\u001b[K     |█████                           | 51kB 27.6MB/s eta 0:00:01\r\u001b[K     |██████                          | 61kB 29.7MB/s eta 0:00:01\r\u001b[K     |███████                         | 71kB 21.9MB/s eta 0:00:01\r\u001b[K     |████████                        | 81kB 18.9MB/s eta 0:00:01\r\u001b[K     |█████████                       | 92kB 19.3MB/s eta 0:00:01\r\u001b[K     |█████████▉                      | 102kB 20.4MB/s eta 0:00:01\r\u001b[K     |██████████▉                     | 112kB 20.4MB/s eta 0:00:01\r\u001b[K     |███████████▉                    | 122kB 20.4MB/s eta 0:00:01\r\u001b[K     |████████████▉                   | 133kB 20.4MB/s eta 0:00:01\r\u001b[K     |█████████████▉                  | 143kB 20.4MB/s eta 0:00:01\r\u001b[K     |██████████████▉                 | 153kB 20.4MB/s eta 0:00:01\r\u001b[K     |███████████████▉                | 163kB 20.4MB/s eta 0:00:01\r\u001b[K     |████████████████▉               | 174kB 20.4MB/s eta 0:00:01\r\u001b[K     |█████████████████▉              | 184kB 20.4MB/s eta 0:00:01\r\u001b[K     |██████████████████▉             | 194kB 20.4MB/s eta 0:00:01\r\u001b[K     |███████████████████▊            | 204kB 20.4MB/s eta 0:00:01\r\u001b[K     |████████████████████▊           | 215kB 20.4MB/s eta 0:00:01\r\u001b[K     |█████████████████████▊          | 225kB 20.4MB/s eta 0:00:01\r\u001b[K     |██████████████████████▊         | 235kB 20.4MB/s eta 0:00:01\r\u001b[K     |███████████████████████▊        | 245kB 20.4MB/s eta 0:00:01\r\u001b[K     |████████████████████████▊       | 256kB 20.4MB/s eta 0:00:01\r\u001b[K     |█████████████████████████▊      | 266kB 20.4MB/s eta 0:00:01\r\u001b[K     |██████████████████████████▊     | 276kB 20.4MB/s eta 0:00:01\r\u001b[K     |███████████████████████████▊    | 286kB 20.4MB/s eta 0:00:01\r\u001b[K     |████████████████████████████▊   | 296kB 20.4MB/s eta 0:00:01\r\u001b[K     |█████████████████████████████▋  | 307kB 20.4MB/s eta 0:00:01\r\u001b[K     |██████████████████████████████▋ | 317kB 20.4MB/s eta 0:00:01\r\u001b[K     |███████████████████████████████▋| 327kB 20.4MB/s eta 0:00:01\r\u001b[K     |████████████████████████████████| 337kB 20.4MB/s \n",
            "\u001b[?25hRequirement already satisfied: pandas in /usr/local/lib/python3.7/dist-packages (from pgmpy) (1.1.5)\n",
            "Requirement already satisfied: joblib in /usr/local/lib/python3.7/dist-packages (from pgmpy) (1.0.1)\n",
            "Requirement already satisfied: numpy in /usr/local/lib/python3.7/dist-packages (from pgmpy) (1.19.5)\n",
            "Requirement already satisfied: networkx in /usr/local/lib/python3.7/dist-packages (from pgmpy) (2.5)\n",
            "Requirement already satisfied: pyparsing in /usr/local/lib/python3.7/dist-packages (from pgmpy) (2.4.7)\n",
            "Requirement already satisfied: tqdm in /usr/local/lib/python3.7/dist-packages (from pgmpy) (4.41.1)\n",
            "Requirement already satisfied: scipy in /usr/local/lib/python3.7/dist-packages (from pgmpy) (1.4.1)\n",
            "Requirement already satisfied: scikit-learn in /usr/local/lib/python3.7/dist-packages (from pgmpy) (0.22.2.post1)\n",
            "Requirement already satisfied: statsmodels in /usr/local/lib/python3.7/dist-packages (from pgmpy) (0.10.2)\n",
            "Requirement already satisfied: torch in /usr/local/lib/python3.7/dist-packages (from pgmpy) (1.8.1+cu101)\n",
            "Requirement already satisfied: pytz>=2017.2 in /usr/local/lib/python3.7/dist-packages (from pandas->pgmpy) (2018.9)\n",
            "Requirement already satisfied: python-dateutil>=2.7.3 in /usr/local/lib/python3.7/dist-packages (from pandas->pgmpy) (2.8.1)\n",
            "Requirement already satisfied: decorator>=4.3.0 in /usr/local/lib/python3.7/dist-packages (from networkx->pgmpy) (4.4.2)\n",
            "Requirement already satisfied: patsy>=0.4.0 in /usr/local/lib/python3.7/dist-packages (from statsmodels->pgmpy) (0.5.1)\n",
            "Requirement already satisfied: typing-extensions in /usr/local/lib/python3.7/dist-packages (from torch->pgmpy) (3.7.4.3)\n",
            "Requirement already satisfied: six>=1.5 in /usr/local/lib/python3.7/dist-packages (from python-dateutil>=2.7.3->pandas->pgmpy) (1.15.0)\n",
            "Installing collected packages: pgmpy\n",
            "Successfully installed pgmpy-0.1.14\n"
          ],
          "name": "stdout"
        }
      ]
    },
    {
      "cell_type": "markdown",
      "metadata": {
        "id": "djHT7CGabS7J"
      },
      "source": [
        "Bayesian Model"
      ]
    },
    {
      "cell_type": "code",
      "metadata": {
        "id": "h1km2kk_a1se"
      },
      "source": [
        "from pgmpy.models import BayesianModel\n",
        "from pgmpy.factors.discrete.CPD import TabularCPD"
      ],
      "execution_count": 2,
      "outputs": []
    },
    {
      "cell_type": "markdown",
      "metadata": {
        "id": "sltFcxvBbPYx"
      },
      "source": [
        "Add CPD (Conditional Probability Distribution) to the Bayesian Model"
      ]
    },
    {
      "cell_type": "code",
      "metadata": {
        "id": "e2yXT9rba_O3",
        "colab": {
          "base_uri": "https://localhost:8080/"
        },
        "outputId": "1af734f0-4f08-426c-d4b7-b85af0aa6756"
      },
      "source": [
        "from pgmpy.models import BayesianModel\n",
        "from pgmpy.factors.discrete import TabularCPD\n",
        "model = BayesianModel([('A', 'B'), ('B', 'C')])\n",
        "cpd_a = TabularCPD('A', 2, [[0.2], [0.8]])\n",
        "cpd_b = TabularCPD('B', 2, [[0.3, 0.7], [0.7, 0.3]],\n",
        "                   evidence=['A'],\n",
        "                   evidence_card=[2])\n",
        "cpd_c = TabularCPD('C', 2, [[0.1, 0.9], [0.9, 0.1]],\n",
        "                   evidence=['B'],\n",
        "                   evidence_card=[2])\n",
        "model.add_cpds(cpd_a, cpd_b, cpd_c)\n",
        "copy_model = model.copy()\n",
        "copy_model.nodes()"
      ],
      "execution_count": null,
      "outputs": [
        {
          "output_type": "execute_result",
          "data": {
            "text/plain": [
              "NodeView(('A', 'B', 'C'))"
            ]
          },
          "metadata": {
            "tags": []
          },
          "execution_count": 5
        }
      ]
    },
    {
      "cell_type": "code",
      "metadata": {
        "colab": {
          "base_uri": "https://localhost:8080/"
        },
        "id": "0igHC70Vctwl",
        "outputId": "21f5ee80-c0fb-4679-8266-2cebdfd8ab23"
      },
      "source": [
        "copy_model.edges()"
      ],
      "execution_count": null,
      "outputs": [
        {
          "output_type": "execute_result",
          "data": {
            "text/plain": [
              "OutEdgeView([('A', 'B'), ('B', 'C')])"
            ]
          },
          "metadata": {
            "tags": []
          },
          "execution_count": 7
        }
      ]
    },
    {
      "cell_type": "code",
      "metadata": {
        "colab": {
          "base_uri": "https://localhost:8080/"
        },
        "id": "Ms9jivjGcxed",
        "outputId": "66079829-29f2-444f-cbab-df9664a24b7c"
      },
      "source": [
        "len(copy_model.get_cpds())"
      ],
      "execution_count": null,
      "outputs": [
        {
          "output_type": "execute_result",
          "data": {
            "text/plain": [
              "3"
            ]
          },
          "metadata": {
            "tags": []
          },
          "execution_count": 9
        }
      ]
    },
    {
      "cell_type": "markdown",
      "metadata": {
        "id": "ZWGDZKGtdaI7"
      },
      "source": [
        "Estimates the CPD for each variable based on a given data set."
      ]
    },
    {
      "cell_type": "code",
      "metadata": {
        "colab": {
          "base_uri": "https://localhost:8080/"
        },
        "id": "GT10yw3Ncydw",
        "outputId": "07b6643c-d365-42bc-d17c-01bc8978c745"
      },
      "source": [
        "import pandas as pd\n",
        "from pgmpy.models import BayesianModel\n",
        "from pgmpy.estimators import MaximumLikelihoodEstimator\n",
        "data = pd.DataFrame(data={'A': [0, 0, 1], 'B': [0, 1, 0], 'C': [1, 1, 0]})\n",
        "model = BayesianModel([('A', 'C'), ('B', 'C')])\n",
        "model.fit(data)\n",
        "model.get_cpds()"
      ],
      "execution_count": null,
      "outputs": [
        {
          "output_type": "stream",
          "text": [
            "/usr/local/lib/python3.7/dist-packages/statsmodels/tools/_testing.py:19: FutureWarning: pandas.util.testing is deprecated. Use the functions in the public API at pandas.testing instead.\n",
            "  import pandas.util.testing as tm\n"
          ],
          "name": "stderr"
        },
        {
          "output_type": "execute_result",
          "data": {
            "text/plain": [
              "[<TabularCPD representing P(A:2) at 0x7f3c00043e90>,\n",
              " <TabularCPD representing P(B:2) at 0x7f3bfffe9ed0>,\n",
              " <TabularCPD representing P(C:2 | A:2, B:2) at 0x7f3c0ede8e50>]"
            ]
          },
          "metadata": {
            "tags": []
          },
          "execution_count": 12
        }
      ]
    },
    {
      "cell_type": "markdown",
      "metadata": {
        "id": "RroVdwFRdkQW"
      },
      "source": [
        "Returns the cardinality of the node. Throws an error if the CPD for the queried node hasn’t been added to the network."
      ]
    },
    {
      "cell_type": "code",
      "metadata": {
        "colab": {
          "base_uri": "https://localhost:8080/"
        },
        "id": "WaXzSsPxdbtn",
        "outputId": "b695559b-9969-4902-8d5b-8e017705fc6b"
      },
      "source": [
        "from pgmpy.models import BayesianModel\n",
        "from pgmpy.factors.discrete import TabularCPD\n",
        "student = BayesianModel([('diff', 'grade'), ('intel', 'grade')])\n",
        "cpd_diff = TabularCPD('diff', 2, [[0.6], [0.4]]);\n",
        "cpd_intel = TabularCPD('intel', 2, [[0.7], [0.3]]);\n",
        "cpd_grade = TabularCPD('grade', 2, [[0.1, 0.9, 0.2, 0.7],\n",
        "                                    [0.9, 0.1, 0.8, 0.3]],\n",
        "                                ['intel', 'diff'], [2, 2])\n",
        "student.add_cpds(cpd_diff,cpd_intel,cpd_grade)\n",
        "student.get_cardinality()"
      ],
      "execution_count": null,
      "outputs": [
        {
          "output_type": "execute_result",
          "data": {
            "text/plain": [
              "defaultdict(int, {'diff': 2, 'grade': 2, 'intel': 2})"
            ]
          },
          "metadata": {
            "tags": []
          },
          "execution_count": 13
        }
      ]
    },
    {
      "cell_type": "markdown",
      "metadata": {
        "id": "Rp0mju4-d69D"
      },
      "source": [
        "Returns the cpd of the node. If node is not specified returns all the CPDs that have been added till now to the graph"
      ]
    },
    {
      "cell_type": "code",
      "metadata": {
        "colab": {
          "base_uri": "https://localhost:8080/"
        },
        "id": "MdLNz7DMd1H5",
        "outputId": "204ad9f2-4311-4777-f378-bb7491d50777"
      },
      "source": [
        "from pgmpy.models import BayesianModel\n",
        "from pgmpy.factors.discrete import TabularCPD\n",
        "student = BayesianModel([('diff', 'grade'), ('intel', 'grade')])\n",
        "cpd = TabularCPD('grade', 2, [[0.1, 0.9, 0.2, 0.7],\n",
        "                              [0.9, 0.1, 0.8, 0.3]],\n",
        "                 ['intel', 'diff'], [2, 2])\n",
        "student.add_cpds(cpd)\n",
        "student.get_cpds()"
      ],
      "execution_count": null,
      "outputs": [
        {
          "output_type": "execute_result",
          "data": {
            "text/plain": [
              "[<TabularCPD representing P(grade:2 | intel:2, diff:2) at 0x7f3bfed57610>]"
            ]
          },
          "metadata": {
            "tags": []
          },
          "execution_count": 14
        }
      ]
    },
    {
      "cell_type": "markdown",
      "metadata": {
        "id": "_sY1d-RiefFe"
      },
      "source": [
        "Returns a markov blanket for a random variable. In the case of Bayesian Networks, the markov blanket is the set of node’s parents, its children and its children’s other parents."
      ]
    },
    {
      "cell_type": "code",
      "metadata": {
        "colab": {
          "base_uri": "https://localhost:8080/"
        },
        "id": "GJj9qQ7yeYVd",
        "outputId": "7d41b99d-2d5f-4534-eb71-709837e83ddd"
      },
      "source": [
        "from pgmpy.models import BayesianModel\n",
        "from pgmpy.factors.discrete import TabularCPD\n",
        "G = BayesianModel([('x', 'y'), ('z', 'y'), ('y', 'w'), ('y', 'v'), ('u', 'w'),\n",
        "                   ('s', 'v'), ('w', 't'), ('w', 'm'), ('v', 'n'), ('v', 'q')])\n",
        "G.get_markov_blanket('y')"
      ],
      "execution_count": null,
      "outputs": [
        {
          "output_type": "execute_result",
          "data": {
            "text/plain": [
              "['z', 'x', 'u', 'w', 's', 'v']"
            ]
          },
          "metadata": {
            "tags": []
          },
          "execution_count": 15
        }
      ]
    },
    {
      "cell_type": "code",
      "metadata": {
        "colab": {
          "base_uri": "https://localhost:8080/"
        },
        "id": "FXg50yzmerfL",
        "outputId": "bac93e51-92b5-4187-b204-6168e350bae7"
      },
      "source": [
        "G.get_markov_blanket('x')"
      ],
      "execution_count": null,
      "outputs": [
        {
          "output_type": "execute_result",
          "data": {
            "text/plain": [
              "['z', 'y']"
            ]
          },
          "metadata": {
            "tags": []
          },
          "execution_count": 16
        }
      ]
    },
    {
      "cell_type": "code",
      "metadata": {
        "colab": {
          "base_uri": "https://localhost:8080/"
        },
        "id": "Jm5TBby2exea",
        "outputId": "400d83f6-181d-49d0-cb8a-ff283372abee"
      },
      "source": [
        "G.get_markov_blanket('z')"
      ],
      "execution_count": null,
      "outputs": [
        {
          "output_type": "execute_result",
          "data": {
            "text/plain": [
              "['y', 'x']"
            ]
          },
          "metadata": {
            "tags": []
          },
          "execution_count": 17
        }
      ]
    },
    {
      "cell_type": "code",
      "metadata": {
        "colab": {
          "base_uri": "https://localhost:8080/"
        },
        "id": "rH5a0r_7e0ZB",
        "outputId": "9fbb52e6-4fe8-4c4d-f100-fa511acd73e7"
      },
      "source": [
        "G.get_markov_blanket('w')"
      ],
      "execution_count": null,
      "outputs": [
        {
          "output_type": "execute_result",
          "data": {
            "text/plain": [
              "['t', 'm', 'y', 'u']"
            ]
          },
          "metadata": {
            "tags": []
          },
          "execution_count": 18
        }
      ]
    },
    {
      "cell_type": "markdown",
      "metadata": {
        "id": "QFaNqCdofi0j"
      },
      "source": [
        "Predicts states of all the missing variables."
      ]
    },
    {
      "cell_type": "code",
      "metadata": {
        "colab": {
          "base_uri": "https://localhost:8080/",
          "height": 436
        },
        "id": "03BdtQcre3ZE",
        "outputId": "cc48dcb9-9815-41fb-820c-16361b8fcf39"
      },
      "source": [
        "import numpy as np\n",
        "import pandas as pd\n",
        "from pgmpy.models import BayesianModel\n",
        "values = pd.DataFrame(np.random.randint(low=0, high=2, size=(1000, 5)),\n",
        "                      columns=['A', 'B', 'C', 'D', 'E'])\n",
        "train_data = values[:800]\n",
        "predict_data = values[800:]\n",
        "model = BayesianModel([('A', 'B'), ('C', 'B'), ('C', 'D'), ('B', 'E')])\n",
        "model.fit(train_data)\n",
        "predict_data = predict_data.copy()\n",
        "predict_data.drop('E', axis=1, inplace=True)\n",
        "y_pred = model.predict(predict_data)\n",
        "y_pred"
      ],
      "execution_count": null,
      "outputs": [
        {
          "output_type": "stream",
          "text": [
            "100%|██████████| 16/16 [00:04<00:00,  3.71it/s]\n"
          ],
          "name": "stderr"
        },
        {
          "output_type": "execute_result",
          "data": {
            "text/html": [
              "<div>\n",
              "<style scoped>\n",
              "    .dataframe tbody tr th:only-of-type {\n",
              "        vertical-align: middle;\n",
              "    }\n",
              "\n",
              "    .dataframe tbody tr th {\n",
              "        vertical-align: top;\n",
              "    }\n",
              "\n",
              "    .dataframe thead th {\n",
              "        text-align: right;\n",
              "    }\n",
              "</style>\n",
              "<table border=\"1\" class=\"dataframe\">\n",
              "  <thead>\n",
              "    <tr style=\"text-align: right;\">\n",
              "      <th></th>\n",
              "      <th>E</th>\n",
              "    </tr>\n",
              "  </thead>\n",
              "  <tbody>\n",
              "    <tr>\n",
              "      <th>0</th>\n",
              "      <td>1</td>\n",
              "    </tr>\n",
              "    <tr>\n",
              "      <th>1</th>\n",
              "      <td>1</td>\n",
              "    </tr>\n",
              "    <tr>\n",
              "      <th>2</th>\n",
              "      <td>0</td>\n",
              "    </tr>\n",
              "    <tr>\n",
              "      <th>3</th>\n",
              "      <td>0</td>\n",
              "    </tr>\n",
              "    <tr>\n",
              "      <th>4</th>\n",
              "      <td>1</td>\n",
              "    </tr>\n",
              "    <tr>\n",
              "      <th>...</th>\n",
              "      <td>...</td>\n",
              "    </tr>\n",
              "    <tr>\n",
              "      <th>195</th>\n",
              "      <td>0</td>\n",
              "    </tr>\n",
              "    <tr>\n",
              "      <th>196</th>\n",
              "      <td>1</td>\n",
              "    </tr>\n",
              "    <tr>\n",
              "      <th>197</th>\n",
              "      <td>0</td>\n",
              "    </tr>\n",
              "    <tr>\n",
              "      <th>198</th>\n",
              "      <td>0</td>\n",
              "    </tr>\n",
              "    <tr>\n",
              "      <th>199</th>\n",
              "      <td>0</td>\n",
              "    </tr>\n",
              "  </tbody>\n",
              "</table>\n",
              "<p>200 rows × 1 columns</p>\n",
              "</div>"
            ],
            "text/plain": [
              "     E\n",
              "0    1\n",
              "1    1\n",
              "2    0\n",
              "3    0\n",
              "4    1\n",
              "..  ..\n",
              "195  0\n",
              "196  1\n",
              "197  0\n",
              "198  0\n",
              "199  0\n",
              "\n",
              "[200 rows x 1 columns]"
            ]
          },
          "metadata": {
            "tags": []
          },
          "execution_count": 19
        }
      ]
    },
    {
      "cell_type": "markdown",
      "metadata": {
        "id": "1Kw_bX72fsuo"
      },
      "source": [
        "Predicts probabilities of all states of the missing variables."
      ]
    },
    {
      "cell_type": "code",
      "metadata": {
        "colab": {
          "base_uri": "https://localhost:8080/",
          "height": 669
        },
        "id": "MKpzLkJMfmAI",
        "outputId": "92d6adfc-1fb2-481b-b9fd-a3cc7330fae6"
      },
      "source": [
        "import numpy as np\n",
        "import pandas as pd\n",
        "from pgmpy.models import BayesianModel\n",
        "values = pd.DataFrame(np.random.randint(low=0, high=2, size=(100, 5)),\n",
        "                      columns=['A', 'B', 'C', 'D', 'E'])\n",
        "train_data = values[:80]\n",
        "predict_data = values[80:]\n",
        "model = BayesianModel([('A', 'B'), ('C', 'B'), ('C', 'D'), ('B', 'E')])\n",
        "model.fit(values)\n",
        "predict_data = predict_data.copy()\n",
        "predict_data.drop('B', axis=1, inplace=True)\n",
        "y_prob = model.predict_probability(predict_data)\n",
        "y_prob"
      ],
      "execution_count": null,
      "outputs": [
        {
          "output_type": "execute_result",
          "data": {
            "text/html": [
              "<div>\n",
              "<style scoped>\n",
              "    .dataframe tbody tr th:only-of-type {\n",
              "        vertical-align: middle;\n",
              "    }\n",
              "\n",
              "    .dataframe tbody tr th {\n",
              "        vertical-align: top;\n",
              "    }\n",
              "\n",
              "    .dataframe thead th {\n",
              "        text-align: right;\n",
              "    }\n",
              "</style>\n",
              "<table border=\"1\" class=\"dataframe\">\n",
              "  <thead>\n",
              "    <tr style=\"text-align: right;\">\n",
              "      <th></th>\n",
              "      <th>B_0</th>\n",
              "      <th>B_1</th>\n",
              "    </tr>\n",
              "  </thead>\n",
              "  <tbody>\n",
              "    <tr>\n",
              "      <th>80</th>\n",
              "      <td>0.526221</td>\n",
              "      <td>0.473779</td>\n",
              "    </tr>\n",
              "    <tr>\n",
              "      <th>81</th>\n",
              "      <td>0.526221</td>\n",
              "      <td>0.473779</td>\n",
              "    </tr>\n",
              "    <tr>\n",
              "      <th>82</th>\n",
              "      <td>0.406000</td>\n",
              "      <td>0.594000</td>\n",
              "    </tr>\n",
              "    <tr>\n",
              "      <th>83</th>\n",
              "      <td>0.526221</td>\n",
              "      <td>0.473779</td>\n",
              "    </tr>\n",
              "    <tr>\n",
              "      <th>84</th>\n",
              "      <td>0.526221</td>\n",
              "      <td>0.473779</td>\n",
              "    </tr>\n",
              "    <tr>\n",
              "      <th>85</th>\n",
              "      <td>0.354251</td>\n",
              "      <td>0.645749</td>\n",
              "    </tr>\n",
              "    <tr>\n",
              "      <th>86</th>\n",
              "      <td>0.526221</td>\n",
              "      <td>0.473779</td>\n",
              "    </tr>\n",
              "    <tr>\n",
              "      <th>87</th>\n",
              "      <td>0.406000</td>\n",
              "      <td>0.594000</td>\n",
              "    </tr>\n",
              "    <tr>\n",
              "      <th>88</th>\n",
              "      <td>0.354251</td>\n",
              "      <td>0.645749</td>\n",
              "    </tr>\n",
              "    <tr>\n",
              "      <th>89</th>\n",
              "      <td>0.396975</td>\n",
              "      <td>0.603025</td>\n",
              "    </tr>\n",
              "    <tr>\n",
              "      <th>90</th>\n",
              "      <td>0.396975</td>\n",
              "      <td>0.603025</td>\n",
              "    </tr>\n",
              "    <tr>\n",
              "      <th>91</th>\n",
              "      <td>0.354251</td>\n",
              "      <td>0.645749</td>\n",
              "    </tr>\n",
              "    <tr>\n",
              "      <th>92</th>\n",
              "      <td>0.532529</td>\n",
              "      <td>0.467471</td>\n",
              "    </tr>\n",
              "    <tr>\n",
              "      <th>93</th>\n",
              "      <td>0.396975</td>\n",
              "      <td>0.603025</td>\n",
              "    </tr>\n",
              "    <tr>\n",
              "      <th>94</th>\n",
              "      <td>0.247642</td>\n",
              "      <td>0.752358</td>\n",
              "    </tr>\n",
              "    <tr>\n",
              "      <th>95</th>\n",
              "      <td>0.354251</td>\n",
              "      <td>0.645749</td>\n",
              "    </tr>\n",
              "    <tr>\n",
              "      <th>96</th>\n",
              "      <td>0.247642</td>\n",
              "      <td>0.752358</td>\n",
              "    </tr>\n",
              "    <tr>\n",
              "      <th>97</th>\n",
              "      <td>0.526221</td>\n",
              "      <td>0.473779</td>\n",
              "    </tr>\n",
              "    <tr>\n",
              "      <th>98</th>\n",
              "      <td>0.247642</td>\n",
              "      <td>0.752358</td>\n",
              "    </tr>\n",
              "    <tr>\n",
              "      <th>99</th>\n",
              "      <td>0.406000</td>\n",
              "      <td>0.594000</td>\n",
              "    </tr>\n",
              "  </tbody>\n",
              "</table>\n",
              "</div>"
            ],
            "text/plain": [
              "         B_0       B_1\n",
              "80  0.526221  0.473779\n",
              "81  0.526221  0.473779\n",
              "82  0.406000  0.594000\n",
              "83  0.526221  0.473779\n",
              "84  0.526221  0.473779\n",
              "85  0.354251  0.645749\n",
              "86  0.526221  0.473779\n",
              "87  0.406000  0.594000\n",
              "88  0.354251  0.645749\n",
              "89  0.396975  0.603025\n",
              "90  0.396975  0.603025\n",
              "91  0.354251  0.645749\n",
              "92  0.532529  0.467471\n",
              "93  0.396975  0.603025\n",
              "94  0.247642  0.752358\n",
              "95  0.354251  0.645749\n",
              "96  0.247642  0.752358\n",
              "97  0.526221  0.473779\n",
              "98  0.247642  0.752358\n",
              "99  0.406000  0.594000"
            ]
          },
          "metadata": {
            "tags": []
          },
          "execution_count": 20
        }
      ]
    },
    {
      "cell_type": "markdown",
      "metadata": {
        "id": "CaJHLWN0hyyg"
      },
      "source": [
        "Removes the cpds that are provided in the argument."
      ]
    },
    {
      "cell_type": "code",
      "metadata": {
        "id": "77sz5jQnfvcl"
      },
      "source": [
        "from pgmpy.models import BayesianModel\n",
        "from pgmpy.factors.discrete import TabularCPD\n",
        "student = BayesianModel([('diff', 'grade'), ('intel', 'grade')])\n",
        "cpd = TabularCPD('grade', 2, [[0.1, 0.9, 0.2, 0.7],\n",
        "                              [0.9, 0.1, 0.8, 0.3]],\n",
        "                 ['intel', 'diff'], [2, 2])\n",
        "student.add_cpds(cpd)\n",
        "student.remove_cpds(cpd)"
      ],
      "execution_count": null,
      "outputs": []
    },
    {
      "cell_type": "code",
      "metadata": {
        "colab": {
          "base_uri": "https://localhost:8080/"
        },
        "id": "-a0C9lSlh_ou",
        "outputId": "2209191a-51cc-4204-87e7-ad5ed41ccb5c"
      },
      "source": [
        "student.get_cpds()"
      ],
      "execution_count": null,
      "outputs": [
        {
          "output_type": "execute_result",
          "data": {
            "text/plain": [
              "[]"
            ]
          },
          "metadata": {
            "tags": []
          },
          "execution_count": 22
        }
      ]
    },
    {
      "cell_type": "markdown",
      "metadata": {
        "id": "T2Pww-koh9oc"
      },
      "source": [
        "Remove node from the model.\n",
        "\n",
        "Removing a node also removes all the associated edges, removes the CPD of the node and marginalizes the CPDs of it’s children."
      ]
    },
    {
      "cell_type": "code",
      "metadata": {
        "colab": {
          "base_uri": "https://localhost:8080/"
        },
        "id": "1Zxengvrh1gK",
        "outputId": "e8f5da98-0526-46f1-ffac-3411981d4b1b"
      },
      "source": [
        "import pandas as pd\n",
        "import numpy as np\n",
        "from pgmpy.models import BayesianModel\n",
        "model = BayesianModel([('A', 'B'), ('B', 'C'),\n",
        "                       ('A', 'D'), ('D', 'C')])\n",
        "values = pd.DataFrame(np.random.randint(low=0, high=2, size=(1000, 4)),\n",
        "                      columns=['A', 'B', 'C', 'D'])\n",
        "model.fit(values)\n",
        "print(model.get_cpds())\n",
        "print()\n",
        "model.remove_node('A')\n",
        "model.get_cpds()"
      ],
      "execution_count": null,
      "outputs": [
        {
          "output_type": "stream",
          "text": [
            "[<TabularCPD representing P(A:2) at 0x7f3bfe38c910>, <TabularCPD representing P(B:2 | A:2) at 0x7f3bfecaa610>, <TabularCPD representing P(C:2 | B:2, D:2) at 0x7f3bfe38c590>, <TabularCPD representing P(D:2 | A:2) at 0x7f3bfe48e990>]\n",
            "\n"
          ],
          "name": "stdout"
        },
        {
          "output_type": "execute_result",
          "data": {
            "text/plain": [
              "[<TabularCPD representing P(B:2) at 0x7f3bfecaa610>,\n",
              " <TabularCPD representing P(C:2 | B:2, D:2) at 0x7f3bfe38c590>,\n",
              " <TabularCPD representing P(D:2) at 0x7f3bfe48e990>]"
            ]
          },
          "metadata": {
            "tags": []
          },
          "execution_count": 24
        }
      ]
    },
    {
      "cell_type": "markdown",
      "metadata": {
        "id": "LLu4PZBliWVa"
      },
      "source": [
        "Remove multiple nodes from the model.\n",
        "\n",
        "Removing a node also removes all the associated edges, removes the CPD of the node and marginalizes the CPDs of it’s children."
      ]
    },
    {
      "cell_type": "code",
      "metadata": {
        "colab": {
          "base_uri": "https://localhost:8080/"
        },
        "id": "uZMz18KliM6T",
        "outputId": "08b4652a-cc9d-4321-abb7-9c0ee8c557ba"
      },
      "source": [
        "import pandas as pd\n",
        "import numpy as np\n",
        "from pgmpy.models import BayesianModel\n",
        "model = BayesianModel([('A', 'B'), ('B', 'C'),\n",
        "                       ('A', 'D'), ('D', 'C')])\n",
        "values = pd.DataFrame(np.random.randint(low=0, high=2, size=(1000, 4)),\n",
        "                      columns=['A', 'B', 'C', 'D'])\n",
        "model.fit(values)\n",
        "model.get_cpds()"
      ],
      "execution_count": null,
      "outputs": [
        {
          "output_type": "execute_result",
          "data": {
            "text/plain": [
              "[<TabularCPD representing P(A:2) at 0x7f3bfecaa6d0>,\n",
              " <TabularCPD representing P(B:2 | A:2) at 0x7f3bfe3177d0>,\n",
              " <TabularCPD representing P(C:2 | B:2, D:2) at 0x7f3bfe38e790>,\n",
              " <TabularCPD representing P(D:2 | A:2) at 0x7f3bfe38eed0>]"
            ]
          },
          "metadata": {
            "tags": []
          },
          "execution_count": 25
        }
      ]
    },
    {
      "cell_type": "code",
      "metadata": {
        "colab": {
          "base_uri": "https://localhost:8080/"
        },
        "id": "XaWxxhfGiZwT",
        "outputId": "3ddd5481-f661-40ec-810b-0db52f4b0888"
      },
      "source": [
        "model.remove_nodes_from(['A', 'B'])\n",
        "model.get_cpds()"
      ],
      "execution_count": null,
      "outputs": [
        {
          "output_type": "execute_result",
          "data": {
            "text/plain": [
              "[<TabularCPD representing P(C:2 | D:2) at 0x7f3bfe38e790>,\n",
              " <TabularCPD representing P(D:2) at 0x7f3bfe38eed0>]"
            ]
          },
          "metadata": {
            "tags": []
          },
          "execution_count": 26
        }
      ]
    },
    {
      "cell_type": "markdown",
      "metadata": {
        "id": "x9_MKW3Iioaw"
      },
      "source": [
        "to_markov_model\n",
        "\n",
        "\n",
        "Converts bayesian model to markov model. The markov model created would be the moral graph of the bayesian model."
      ]
    },
    {
      "cell_type": "code",
      "metadata": {
        "colab": {
          "base_uri": "https://localhost:8080/"
        },
        "id": "UR96Yn_xicqw",
        "outputId": "b00982cc-fd93-47ba-9575-23d178054289"
      },
      "source": [
        "from pgmpy.models import BayesianModel\n",
        "G = BayesianModel([('diff', 'grade'), ('intel', 'grade'),\n",
        "                   ('intel', 'SAT'), ('grade', 'letter')])\n",
        "mm = G.to_markov_model()\n",
        "print(mm.nodes())\n",
        "\n",
        "mm.edges()"
      ],
      "execution_count": null,
      "outputs": [
        {
          "output_type": "stream",
          "text": [
            "['diff', 'grade', 'intel', 'letter', 'SAT']\n"
          ],
          "name": "stdout"
        },
        {
          "output_type": "execute_result",
          "data": {
            "text/plain": [
              "EdgeView([('diff', 'grade'), ('diff', 'intel'), ('grade', 'letter'), ('grade', 'intel'), ('intel', 'SAT')])"
            ]
          },
          "metadata": {
            "tags": []
          },
          "execution_count": 27
        }
      ]
    },
    {
      "cell_type": "markdown",
      "metadata": {
        "id": "JzNuTMOojadE"
      },
      "source": [
        "#Markov Model"
      ]
    },
    {
      "cell_type": "markdown",
      "metadata": {
        "id": "qPN7i-WfjuXQ"
      },
      "source": [
        "A MarkovModel stores nodes and edges with potentials\n",
        "\n",
        "MarkovModel holds undirected edges."
      ]
    },
    {
      "cell_type": "markdown",
      "metadata": {
        "id": "Rk8A_ypxjzTE"
      },
      "source": [
        "Create an empty Markov Model with no nodes and no edges."
      ]
    },
    {
      "cell_type": "code",
      "metadata": {
        "id": "ydVXqTR_2Kvj"
      },
      "source": [
        "from pgmpy.models import MarkovModel\n",
        "import numpy as np"
      ],
      "execution_count": null,
      "outputs": []
    },
    {
      "cell_type": "code",
      "metadata": {
        "id": "KxcY8P4vjHfJ"
      },
      "source": [
        "G = MarkovModel()"
      ],
      "execution_count": null,
      "outputs": []
    },
    {
      "cell_type": "markdown",
      "metadata": {
        "id": "Nh1dKb3KkO3X"
      },
      "source": [
        "##Nodes"
      ]
    },
    {
      "cell_type": "markdown",
      "metadata": {
        "id": "ih7erZ8jj3mD"
      },
      "source": [
        "G can be grown by adding nodes.\n",
        "\n",
        "Add one node at a time:"
      ]
    },
    {
      "cell_type": "code",
      "metadata": {
        "id": "4CFtYi-Dj1M0"
      },
      "source": [
        "G.add_node('a')"
      ],
      "execution_count": null,
      "outputs": []
    },
    {
      "cell_type": "markdown",
      "metadata": {
        "id": "r9CVcXoqkLGM"
      },
      "source": [
        "Add the nodes from any container (a list, set or tuple or the nodes from another graph)."
      ]
    },
    {
      "cell_type": "code",
      "metadata": {
        "id": "87E8a84aj6ct"
      },
      "source": [
        "G.add_nodes_from(['a', 'b'])"
      ],
      "execution_count": null,
      "outputs": []
    },
    {
      "cell_type": "markdown",
      "metadata": {
        "id": "UhvJhUl7kRKg"
      },
      "source": [
        "##Edges\n",
        "\n",
        "\n",
        "G can also be grown by adding edges.\n",
        "\n",
        "\n",
        "\n",
        "Add one edge,"
      ]
    },
    {
      "cell_type": "code",
      "metadata": {
        "id": "g617yDnakNiX"
      },
      "source": [
        "G.add_edge('a', 'b')"
      ],
      "execution_count": null,
      "outputs": []
    },
    {
      "cell_type": "markdown",
      "metadata": {
        "id": "rUjg88Opkdx5"
      },
      "source": [
        "a list of edges,"
      ]
    },
    {
      "cell_type": "code",
      "metadata": {
        "id": "SLPNleNxkb0W"
      },
      "source": [
        "G.add_edges_from([('a', 'b'), ('b', 'c')])"
      ],
      "execution_count": null,
      "outputs": []
    },
    {
      "cell_type": "code",
      "metadata": {
        "colab": {
          "base_uri": "https://localhost:8080/"
        },
        "id": "Obj4GQ4xkgXK",
        "outputId": "c0ebfa71-9e98-4aaf-e9d2-048e6b3e5e5c"
      },
      "source": [
        "'a' in G"
      ],
      "execution_count": null,
      "outputs": [
        {
          "output_type": "execute_result",
          "data": {
            "text/plain": [
              "True"
            ]
          },
          "metadata": {
            "tags": []
          },
          "execution_count": 9
        }
      ]
    },
    {
      "cell_type": "code",
      "metadata": {
        "colab": {
          "base_uri": "https://localhost:8080/"
        },
        "id": "6VcUsp2t1SnX",
        "outputId": "bc7eebdd-1b1b-4ed8-da7f-44567a135f48"
      },
      "source": [
        "len(G)"
      ],
      "execution_count": null,
      "outputs": [
        {
          "output_type": "execute_result",
          "data": {
            "text/plain": [
              "3"
            ]
          },
          "metadata": {
            "tags": []
          },
          "execution_count": 10
        }
      ]
    },
    {
      "cell_type": "markdown",
      "metadata": {
        "id": "s0zF3jNc1ZGZ"
      },
      "source": [
        "Add an edge between u and v.\n",
        "\n",
        "The nodes u and v will be automatically added if they are not already in the graph"
      ]
    },
    {
      "cell_type": "code",
      "metadata": {
        "id": "J-MkvYG41TmR"
      },
      "source": [
        "from pgmpy.models import MarkovModel\n",
        "G = MarkovModel()\n",
        "G.add_nodes_from(['Alice', 'Bob', 'Charles'])\n",
        "G.add_edge('Alice', 'Bob')"
      ],
      "execution_count": null,
      "outputs": []
    },
    {
      "cell_type": "markdown",
      "metadata": {
        "id": "iARMFOr31_t-"
      },
      "source": [
        "Associate a factor to the graph. See factors class for the order of potential values"
      ]
    },
    {
      "cell_type": "code",
      "metadata": {
        "id": "N1k0wKZY1uAZ"
      },
      "source": [
        "from pgmpy.factors.discrete import DiscreteFactor\n",
        "student = MarkovModel([('Alice', 'Bob'), ('Bob', 'Charles'),\n",
        "                       ('Charles', 'Debbie'), ('Debbie', 'Alice')])\n",
        "factor = DiscreteFactor(['Alice', 'Bob'], cardinality=[3, 2],\n",
        "                values=np.random.rand(6))\n",
        "student.add_factors(factor)"
      ],
      "execution_count": null,
      "outputs": []
    },
    {
      "cell_type": "code",
      "metadata": {
        "colab": {
          "base_uri": "https://localhost:8080/"
        },
        "id": "MpVDaLmJ2huD",
        "outputId": "419051e7-a5f7-425d-cf46-eee1cb7c7bbe"
      },
      "source": [
        "student.edges()"
      ],
      "execution_count": null,
      "outputs": [
        {
          "output_type": "execute_result",
          "data": {
            "text/plain": [
              "EdgeView([('Alice', 'Bob'), ('Alice', 'Debbie'), ('Bob', 'Charles'), ('Charles', 'Debbie')])"
            ]
          },
          "metadata": {
            "tags": []
          },
          "execution_count": 16
        }
      ]
    },
    {
      "cell_type": "code",
      "metadata": {
        "colab": {
          "base_uri": "https://localhost:8080/"
        },
        "id": "LgcF8Vkx2qc2",
        "outputId": "6cf04a59-1154-4ae9-e236-ac5155c2c61b"
      },
      "source": [
        "student.nodes()"
      ],
      "execution_count": null,
      "outputs": [
        {
          "output_type": "execute_result",
          "data": {
            "text/plain": [
              "NodeView(('Alice', 'Bob', 'Charles', 'Debbie'))"
            ]
          },
          "metadata": {
            "tags": []
          },
          "execution_count": 17
        }
      ]
    },
    {
      "cell_type": "code",
      "metadata": {
        "colab": {
          "base_uri": "https://localhost:8080/"
        },
        "id": "xD30Ds6r2tQg",
        "outputId": "89885496-5123-4b9a-861a-a9fef7c1d33e"
      },
      "source": [
        "student.get_factors()"
      ],
      "execution_count": null,
      "outputs": [
        {
          "output_type": "execute_result",
          "data": {
            "text/plain": [
              "[<DiscreteFactor representing phi(Alice:3, Bob:2) at 0x7f1d414adb10>]"
            ]
          },
          "metadata": {
            "tags": []
          },
          "execution_count": 18
        }
      ]
    },
    {
      "cell_type": "code",
      "metadata": {
        "colab": {
          "base_uri": "https://localhost:8080/"
        },
        "id": "vyjYgN9h3L0t",
        "outputId": "0a788e48-1615-4629-faf8-bfbed6442010"
      },
      "source": [
        "student.get_cardinality(node='Alice')"
      ],
      "execution_count": null,
      "outputs": [
        {
          "output_type": "execute_result",
          "data": {
            "text/plain": [
              "3"
            ]
          },
          "metadata": {
            "tags": []
          },
          "execution_count": 22
        }
      ]
    },
    {
      "cell_type": "code",
      "metadata": {
        "colab": {
          "base_uri": "https://localhost:8080/"
        },
        "id": "wQScKEoU275e",
        "outputId": "4e352385-7665-4430-ecfd-85c51e79891e"
      },
      "source": [
        "student.get_cardinality()"
      ],
      "execution_count": null,
      "outputs": [
        {
          "output_type": "execute_result",
          "data": {
            "text/plain": [
              "defaultdict(int, {'Alice': 3, 'Bob': 2})"
            ]
          },
          "metadata": {
            "tags": []
          },
          "execution_count": 19
        }
      ]
    },
    {
      "cell_type": "code",
      "metadata": {
        "colab": {
          "base_uri": "https://localhost:8080/"
        },
        "id": "JhhyrstI3GAJ",
        "outputId": "f841dc04-893c-43e2-ae26-66c2396f5a69"
      },
      "source": [
        "student.get_local_independencies()"
      ],
      "execution_count": null,
      "outputs": [
        {
          "output_type": "execute_result",
          "data": {
            "text/plain": [
              "(Alice ⟂ Charles | Bob, Debbie)\n",
              "(Bob ⟂ Debbie | Alice, Charles)\n",
              "(Charles ⟂ Alice | Bob, Debbie)\n",
              "(Debbie ⟂ Bob | Charles, Alice)"
            ]
          },
          "metadata": {
            "tags": []
          },
          "execution_count": 23
        }
      ]
    },
    {
      "cell_type": "markdown",
      "metadata": {
        "id": "V_4_6HU_3m1o"
      },
      "source": [
        "Convert Markov model into Bayesian"
      ]
    },
    {
      "cell_type": "code",
      "metadata": {
        "colab": {
          "base_uri": "https://localhost:8080/"
        },
        "id": "ABl-1caV3flQ",
        "outputId": "9887cc0f-013f-4ebc-df52-79b82f723fef"
      },
      "source": [
        "from pgmpy.models import MarkovModel\n",
        "from pgmpy.factors.discrete import DiscreteFactor\n",
        "mm = MarkovModel()\n",
        "mm.add_nodes_from(['x1', 'x2', 'x3', 'x4', 'x5', 'x6', 'x7'])\n",
        "mm.add_edges_from([('x1', 'x3'), ('x1', 'x4'), ('x2', 'x4'),\n",
        "                   ('x2', 'x5'), ('x3', 'x6'), ('x4', 'x6'),\n",
        "                   ('x4', 'x7'), ('x5', 'x7')])\n",
        "phi = [DiscreteFactor(edge, [2, 2], np.random.rand(4)) for edge in mm.edges()]\n",
        "mm.add_factors(*phi)\n",
        "bm = mm.to_bayesian_model()"
      ],
      "execution_count": null,
      "outputs": [
        {
          "output_type": "stream",
          "text": [
            "/usr/local/lib/python3.7/dist-packages/pgmpy/models/MarkovModel.py:447: RuntimeWarning: invalid value encountered in long_scalars\n",
            "  S_by_C = {key: S[key] / C[key] for key in S}\n"
          ],
          "name": "stderr"
        }
      ]
    },
    {
      "cell_type": "code",
      "metadata": {
        "id": "hQ5u5Bnq3uAz"
      },
      "source": [
        ""
      ],
      "execution_count": null,
      "outputs": []
    }
  ]
}